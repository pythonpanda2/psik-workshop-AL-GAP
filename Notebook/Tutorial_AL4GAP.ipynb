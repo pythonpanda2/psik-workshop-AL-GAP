{
 "cells": [
  {
   "cell_type": "markdown",
   "id": "204f1cac",
   "metadata": {},
   "source": [
    "# Active Learning for Gaussian Approximation Potential \n",
    "\n",
    "### References\n",
    "\n",
    "[1] https://doi.org/10.1038/s41524-020-00367-7\n",
    "\n",
    "[2] https://doi.org/10.1103/PhysRevLett.126.156002\n",
    "\n",
    "[3] https://github.com/pythonpanda2/active-learning-md"
   ]
  },
  {
   "cell_type": "markdown",
   "id": "54df6676",
   "metadata": {},
   "source": [
    "### Dataset Summary \n",
    "\n",
    "Monoclinic Hafnia (m-HfO2) at 300K \n",
    "\n",
    "6000 snapshot computed  from DFT-PBE based AIMD"
   ]
  },
  {
   "cell_type": "markdown",
   "id": "1452fce8",
   "metadata": {},
   "source": [
    "### Visualization of the dataset"
   ]
  },
  {
   "cell_type": "code",
   "execution_count": 1,
   "id": "8fc2e50f",
   "metadata": {},
   "outputs": [
    {
     "data": {
      "text/plain": [
       "<subprocess.Popen at 0x7fe43f2616d0>"
      ]
     },
     "execution_count": 1,
     "metadata": {},
     "output_type": "execute_result"
    },
    {
     "name": "stderr",
     "output_type": "stream",
     "text": [
      "Traceback (most recent call last):\n",
      "  File \"/Users/gsivaraman/Documents/projects/DSL/ML_IP_2021/conda_psik/lib/python3.7/runpy.py\", line 193, in _run_module_as_main\n",
      "    \"__main__\", mod_spec)\n",
      "  File \"/Users/gsivaraman/Documents/projects/DSL/ML_IP_2021/conda_psik/lib/python3.7/runpy.py\", line 85, in _run_code\n",
      "    exec(code, run_globals)\n",
      "  File \"/Users/gsivaraman/Documents/projects/DSL/ML_IP_2021/conda_psik/lib/python3.7/site-packages/ase/gui/pipe.py\", line 32, in <module>\n",
      "    main()\n",
      "  File \"/Users/gsivaraman/Documents/projects/DSL/ML_IP_2021/conda_psik/lib/python3.7/site-packages/ase/gui/pipe.py\", line 28, in main\n",
      "    plt.show()\n",
      "  File \"/Users/gsivaraman/Documents/projects/DSL/ML_IP_2021/conda_psik/lib/python3.7/site-packages/matplotlib/pyplot.py\", line 378, in show\n",
      "    return _backend_mod.show(*args, **kwargs)\n",
      "  File \"/Users/gsivaraman/Documents/projects/DSL/ML_IP_2021/conda_psik/lib/python3.7/site-packages/matplotlib_inline/backend_inline.py\", line 43, in show\n",
      "    metadata=_fetch_figure_metadata(figure_manager.canvas.figure)\n",
      "  File \"/Users/gsivaraman/Documents/projects/DSL/ML_IP_2021/conda_psik/lib/python3.7/site-packages/IPython/core/display.py\", line 285, in display\n",
      "    print(*objs)\n",
      "ValueError: I/O operation on closed file.\n"
     ]
    }
   ],
   "source": [
    "from ase.io import read\n",
    "from ase.visualize import view \n",
    "\n",
    "import warnings\n",
    "warnings.filterwarnings(\"ignore\", category=FutureWarning)\n",
    "\n",
    "traj = read('traj.extxyz',':')\n",
    "\n",
    "view(traj[:1000:5])\n",
    "\n"
   ]
  },
  {
   "cell_type": "markdown",
   "id": "2583d818",
   "metadata": {},
   "source": [
    "## Setting up the Active Learning "
   ]
  },
  {
   "cell_type": "code",
   "execution_count": 2,
   "id": "f4b3c1a4",
   "metadata": {},
   "outputs": [
    {
     "name": "stdout",
     "output_type": "stream",
     "text": [
      "Help on function run_AL in module AL4GAP.AL4GAP:\n",
      "\n",
      "run_AL(execpath, xyzfilename='To_QUIP.extxyz', nsample=10, nminclust=30, cutoff=(4, 7), sparse=(100, 1200), lmax=(4, 6), nmax=(7, 12), Nopt=(10, 20), Etol=0.02)\n",
      "    A wrap around function to invoke on-the-fly AL and BO. \n",
      "    :param execpath: str\n",
      "    :param xyzfilename:  str\n",
      "    :param nsample:  int\n",
      "    :param nminclust : int\n",
      "    :param cutoff : float tuple\n",
      "    :param sparse : int tuple\n",
      "    :param lmax : int tuple\n",
      "    :param nmax : int tuple\n",
      "    :param Nopt : int tuple\n",
      "    :param Etol : float\n",
      "    Return type: None\n",
      "\n"
     ]
    }
   ],
   "source": [
    "from AL4GAP.AL4GAP import run_AL \n",
    "\n",
    "help(run_AL)\n"
   ]
  },
  {
   "cell_type": "code",
   "execution_count": 3,
   "id": "c25ad545",
   "metadata": {},
   "outputs": [
    {
     "name": "stdout",
     "output_type": "stream",
     "text": [
      "\n",
      "Number of elements in the smallest, largest cluster is 11, 395\n",
      "\n",
      "\n",
      " Nnoise : 145, Nclusters : 93\n",
      "\n",
      "\n",
      " The trials will run in the sampling width interval : (363,5) \n",
      "\n"
     ]
    },
    {
     "name": "stderr",
     "output_type": "stream",
     "text": [
      "\r",
      "  0%|                                                                                                               | 0/14 [00:00<?, ?it/s]"
     ]
    },
    {
     "name": "stdout",
     "output_type": "stream",
     "text": [
      "\n",
      "\n",
      "Beginning  trial number : 1 with a sampling width of 363\n",
      "\n",
      "\n",
      "Numer of training and test configs: 94 , 94\n",
      "\n",
      " 94 new learning configs added by the active sampler\n"
     ]
    },
    {
     "name": "stderr",
     "output_type": "stream",
     "text": [
      "rm: quip_test.xyz: No such file or directory\n"
     ]
    },
    {
     "name": "stdout",
     "output_type": "stream",
     "text": [
      "\n",
      "Training Completed in 239.62 s\n",
      "\n",
      "Param: Cutoff= 5.16, delta= 0.01, n_sparse= 500, lmax= 6, nmax= 4  |  MAE : 0.1 eV, R2: 0.86\n",
      "\n",
      "Training Completed in 140.32 s\n",
      "\n",
      "Param: Cutoff= 4.26, delta= 1.0, n_sparse= 500, lmax= 6, nmax= 4  |  MAE : 0.04 eV, R2: 0.97\n",
      "\n",
      "Training Completed in 131.1 s\n",
      "\n",
      "Param: Cutoff= 4.58, delta= 1.0, n_sparse= 400, lmax= 6, nmax= 4  |  MAE : 0.05 eV, R2: 0.96\n",
      "\n",
      "Training Completed in 76.91 s\n",
      "\n",
      "Param: Cutoff= 4.06, delta= 0.1, n_sparse= 200, lmax= 6, nmax= 5  |  MAE : 0.04 eV, R2: 0.98\n",
      "\n",
      "Training Completed in 223.35 s\n"
     ]
    },
    {
     "name": "stderr",
     "output_type": "stream",
     "text": [
      "reconstraining parameters GP_regression.rbf\n",
      "reconstraining parameters GP_regression.Gaussian_noise.variance\n"
     ]
    },
    {
     "name": "stdout",
     "output_type": "stream",
     "text": [
      "\n",
      "Param: Cutoff= 5.13, delta= 0.1, n_sparse= 300, lmax= 6, nmax= 5  |  MAE : 0.04 eV, R2: 0.97\n",
      "\n",
      "Begin Optimization run \t\n",
      "\n",
      "Training Completed in 146.99 s\n",
      "\n",
      "Param: Cutoff= 4.96, delta= 0.1, n_sparse= 200, lmax= 6, nmax= 5  |  MAE : 0.04 eV, R2: 0.98\n",
      "\n",
      "Training Completed in 98.51 s\n",
      "\n",
      "Param: Cutoff= 4.51, delta= 0.1, n_sparse= 200, lmax= 6, nmax= 5  |  MAE : 0.04 eV, R2: 0.98\n",
      "\n",
      "Training Completed in 87.25 s\n",
      "\n",
      "Param: Cutoff= 4.45, delta= 0.01, n_sparse= 200, lmax= 4, nmax= 6  |  MAE : 0.1 eV, R2: 0.86\n",
      "\n",
      "Training Completed in 63.94 s\n",
      "\n",
      "Param: Cutoff= 4.46, delta= 1.0, n_sparse= 200, lmax= 6, nmax= 4  |  MAE : 0.05 eV, R2: 0.96\n",
      "\n",
      "Training Completed in 64.88 s\n",
      "\n",
      "Param: Cutoff= 4.27, delta= 1.0, n_sparse= 300, lmax= 4, nmax= 4  |  MAE : 0.04 eV, R2: 0.97\n",
      "\n",
      "Training Completed in 346.08 s\n",
      "\n",
      "Param: Cutoff= 5.44, delta= 0.01, n_sparse= 300, lmax= 4, nmax= 6  |  MAE : 0.12 eV, R2: 0.82\n",
      "\n",
      "Training Completed in 83.47 s\n",
      "\n",
      "Param: Cutoff= 4.44, delta= 1.0, n_sparse= 300, lmax= 6, nmax= 4  |  MAE : 0.04 eV, R2: 0.97\n",
      "\n",
      "Training Completed in 84.98 s\n",
      "\n",
      "Param: Cutoff= 4.5, delta= 0.01, n_sparse= 200, lmax= 6, nmax= 5  |  MAE : 0.1 eV, R2: 0.86\n",
      "\n",
      "Training Completed in 88.27 s\n",
      "\n",
      "Param: Cutoff= 4.76, delta= 0.1, n_sparse= 300, lmax= 6, nmax= 4  |  MAE : 0.06 eV, R2: 0.95\n",
      "\n",
      "Training Completed in 69.69 s\n",
      "\n",
      "Param: Cutoff= 4.42, delta= 1.0, n_sparse= 300, lmax= 6, nmax= 4  |  MAE : 0.05 eV, R2: 0.96\n",
      "\n",
      " MAE lowered in this trial: 0.0003848216461815666 eV/Atom\n",
      "\n",
      " Optimal configs found! on 1th trial with hyper parameters : {'cutoff': 4.060069127995982, 'delta': 0.1, 'n_sparse': 200.0, 'lmax': 6.0, 'nmax': 5.0, 'MAE': 0.036942878033430396}\n",
      "\n",
      "\n",
      "Active learning history written to 'activelearned_quipconfigs.json' \n"
     ]
    },
    {
     "name": "stderr",
     "output_type": "stream",
     "text": [
      "\r",
      "  0%|                                                                                                               | 0/14 [35:59<?, ?it/s]"
     ]
    },
    {
     "name": "stdout",
     "output_type": "stream",
     "text": [
      "\n",
      "Active learnied configurations written to 'opt_train.extxyz','opt_test.extxyz' \n"
     ]
    },
    {
     "name": "stderr",
     "output_type": "stream",
     "text": [
      "\n"
     ]
    },
    {
     "data": {
      "image/png": "[encoded data removed]",
      "text/plain": [
       "<Figure size 576x396 with 1 Axes>"
      ]
     },
     "metadata": {},
     "output_type": "display_data"
    }
   ],
   "source": [
    "run_AL(execpath=\"/Users/gsivaraman/Documents/projects/DSL/ML_IP_2021/Notebook/\",\\\n",
    "       xyzfilename=\"traj.extxyz\",nsample=10,\\\n",
    "       nminclust=10,cutoff=(4, 5.5),sparse=(100, 500),\\\n",
    "      lmax=(4, 6), nmax=(4, 6), Nopt=(5, 10), Etol=0.005\n",
    "      )"
   ]
  },
  {
   "cell_type": "markdown",
   "id": "ce58c131",
   "metadata": {},
   "source": [
    "## Make a longer and fine AL search!! \n",
    "\n",
    "Tip: Ideally run the AL on liquid/ high T dataset."
   ]
  },
  {
   "cell_type": "code",
   "execution_count": 5,
   "id": "efeafde0",
   "metadata": {},
   "outputs": [
    {
     "name": "stdout",
     "output_type": "stream",
     "text": [
      "Help on function run_AL in module AL4GAP.AL4GAP:\n",
      "\n",
      "run_AL(execpath, xyzfilename='To_QUIP.extxyz', nsample=10, nminclust=30, cutoff=(4, 7), sparse=(100, 1200), lmax=(4, 6), nmax=(7, 12), Nopt=(10, 20), Etol=0.02)\n",
      "    A wrap around function to invoke on-the-fly AL and BO. \n",
      "    :param execpath: str\n",
      "    :param xyzfilename:  str\n",
      "    :param nsample:  int\n",
      "    :param nminclust : int\n",
      "    :param cutoff : float tuple\n",
      "    :param sparse : int tuple\n",
      "    :param lmax : int tuple\n",
      "    :param nmax : int tuple\n",
      "    :param Nopt : int tuple\n",
      "    :param Etol : float\n",
      "    Return type: None\n",
      "\n"
     ]
    }
   ],
   "source": [
    "help(run_AL)"
   ]
  },
  {
   "cell_type": "code",
   "execution_count": null,
   "id": "76b3353a",
   "metadata": {},
   "outputs": [],
   "source": [
    "run_AL(execpath=\"/Users/gsivaraman/Documents/projects/DSL/ML_IP_2021/Notebook/\",\\\n",
    "       xyzfilename=\"traj.extxyz\",nsample=10,nminclust=10,\\\n",
    "       cutoff=(4, 6.5),\\\n",
    "       sparse=(100, 1200),\\\n",
    "      lmax=(4, 6),\\\n",
    "       nmax=(7, 12),\\\n",
    "       Nopt=(25, 50),\\ #--> BO iterations\n",
    "       Etol=0.002 #--> Convergence tolerance in eV/atom\n",
    "      )"
   ]
  },
  {
   "cell_type": "code",
   "execution_count": null,
   "id": "7ee9c285",
   "metadata": {},
   "outputs": [],
   "source": []
  }
 ],
 "metadata": {
  "kernelspec": {
   "display_name": "Python 3 (ipykernel)",
   "language": "python",
   "name": "python3"
  },
  "language_info": {
   "codemirror_mode": {
    "name": "ipython",
    "version": 3
   },
   "file_extension": ".py",
   "mimetype": "text/x-python",
   "name": "python",
   "nbconvert_exporter": "python",
   "pygments_lexer": "ipython3",
   "version": "3.7.11"
  }
 },
 "nbformat": 4,
 "nbformat_minor": 5
}
